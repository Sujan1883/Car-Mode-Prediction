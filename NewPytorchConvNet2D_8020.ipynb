{
 "cells": [
  {
   "cell_type": "code",
   "execution_count": 2,
   "id": "c0359d23",
   "metadata": {},
   "outputs": [],
   "source": [
    "#Load libraries\n",
    "import os\n",
    "import numpy as np\n",
    "import torch\n",
    "import glob\n",
    "import torch.nn as nn\n",
    "from torchvision.transforms import transforms\n",
    "from torch.utils.data import DataLoader\n",
    "from torch.optim import Adam\n",
    "from torch.autograd import Variable\n",
    "import torchvision\n",
    "import pathlib\n",
    "import matplotlib.pyplot as plt"
   ]
  },
  {
   "cell_type": "code",
   "execution_count": 3,
   "id": "94c0e370",
   "metadata": {},
   "outputs": [],
   "source": [
    "#Transforms\n",
    "transformer=transforms.Compose([\n",
    "    transforms.Resize((150,150)),\n",
    "    transforms.RandomHorizontalFlip(),\n",
    "    transforms.ToTensor(),  #0-255 to 0-1, numpy to tensors\n",
    "    transforms.Normalize([0.5,0.5,0.5], # 0-1 to [-1,1] , formula (x-mean)/std\n",
    "                        [0.5,0.5,0.5])\n",
    "])"
   ]
  },
  {
   "cell_type": "code",
   "execution_count": 4,
   "id": "76dfd700",
   "metadata": {},
   "outputs": [],
   "source": [
    "import pandas as pd\n",
    "import seaborn as sns\n",
    "import tensorflow as tf\n",
    "from tqdm.auto import tqdm\n",
    "import cv2\n",
    "sns.set_style('darkgrid')"
   ]
  },
  {
   "cell_type": "code",
   "execution_count": 5,
   "id": "3c8d6a74",
   "metadata": {},
   "outputs": [],
   "source": [
    "train_dir=\"D:\\\\IEEEModel\\\\Train\"\n",
    "test_dir=\"D:\\\\IEEEModel\\\\Test\""
   ]
  },
  {
   "cell_type": "code",
   "execution_count": 6,
   "id": "4b3917f4",
   "metadata": {},
   "outputs": [],
   "source": [
    "def load_dataset(directory):\n",
    "    image_paths = []\n",
    "    labels = []\n",
    "    \n",
    "    for label in os.listdir(directory):\n",
    "      \n",
    "        for filename in os.listdir(directory+\"/\"+label):\n",
    "            image_path = os.path.join(directory, label, filename)\n",
    "            image_paths.append(image_path)\n",
    "            labels.append(label)\n",
    "\n",
    "    return image_paths, labels"
   ]
  },
  {
   "cell_type": "code",
   "execution_count": 7,
   "id": "4cf98b55",
   "metadata": {},
   "outputs": [
    {
     "data": {
      "text/html": [
       "<div>\n",
       "<style scoped>\n",
       "    .dataframe tbody tr th:only-of-type {\n",
       "        vertical-align: middle;\n",
       "    }\n",
       "\n",
       "    .dataframe tbody tr th {\n",
       "        vertical-align: top;\n",
       "    }\n",
       "\n",
       "    .dataframe thead th {\n",
       "        text-align: right;\n",
       "    }\n",
       "</style>\n",
       "<table border=\"1\" class=\"dataframe\">\n",
       "  <thead>\n",
       "    <tr style=\"text-align: right;\">\n",
       "      <th></th>\n",
       "      <th>image</th>\n",
       "      <th>label</th>\n",
       "    </tr>\n",
       "  </thead>\n",
       "  <tbody>\n",
       "    <tr>\n",
       "      <th>0</th>\n",
       "      <td>D:\\IEEEModel\\Train\\Eco\\2022012615084019-dry-as...</td>\n",
       "      <td>Eco</td>\n",
       "    </tr>\n",
       "    <tr>\n",
       "      <th>1</th>\n",
       "      <td>D:\\IEEEModel\\Train\\Eco\\2022012615204711-dry-as...</td>\n",
       "      <td>Eco</td>\n",
       "    </tr>\n",
       "    <tr>\n",
       "      <th>2</th>\n",
       "      <td>D:\\IEEEModel\\Train\\Eco\\2022012619360610-water-...</td>\n",
       "      <td>Eco</td>\n",
       "    </tr>\n",
       "    <tr>\n",
       "      <th>3</th>\n",
       "      <td>D:\\IEEEModel\\Train\\Eco\\2022012621281716-dry-co...</td>\n",
       "      <td>Eco</td>\n",
       "    </tr>\n",
       "    <tr>\n",
       "      <th>4</th>\n",
       "      <td>D:\\IEEEModel\\Train\\Eco\\2022012621281717-dry-co...</td>\n",
       "      <td>Eco</td>\n",
       "    </tr>\n",
       "  </tbody>\n",
       "</table>\n",
       "</div>"
      ],
      "text/plain": [
       "                                               image label\n",
       "0  D:\\IEEEModel\\Train\\Eco\\2022012615084019-dry-as...   Eco\n",
       "1  D:\\IEEEModel\\Train\\Eco\\2022012615204711-dry-as...   Eco\n",
       "2  D:\\IEEEModel\\Train\\Eco\\2022012619360610-water-...   Eco\n",
       "3  D:\\IEEEModel\\Train\\Eco\\2022012621281716-dry-co...   Eco\n",
       "4  D:\\IEEEModel\\Train\\Eco\\2022012621281717-dry-co...   Eco"
      ]
     },
     "execution_count": 7,
     "metadata": {},
     "output_type": "execute_result"
    }
   ],
   "source": [
    "## convert into dataframe\n",
    "train = pd.DataFrame()\n",
    "train['image'], train['label'] = load_dataset(train_dir)\n",
    "train.head()"
   ]
  },
  {
   "cell_type": "code",
   "execution_count": 8,
   "id": "64f82ca1",
   "metadata": {},
   "outputs": [
    {
     "data": {
      "text/html": [
       "<div>\n",
       "<style scoped>\n",
       "    .dataframe tbody tr th:only-of-type {\n",
       "        vertical-align: middle;\n",
       "    }\n",
       "\n",
       "    .dataframe tbody tr th {\n",
       "        vertical-align: top;\n",
       "    }\n",
       "\n",
       "    .dataframe thead th {\n",
       "        text-align: right;\n",
       "    }\n",
       "</style>\n",
       "<table border=\"1\" class=\"dataframe\">\n",
       "  <thead>\n",
       "    <tr style=\"text-align: right;\">\n",
       "      <th></th>\n",
       "      <th>image</th>\n",
       "      <th>label</th>\n",
       "    </tr>\n",
       "  </thead>\n",
       "  <tbody>\n",
       "    <tr>\n",
       "      <th>0</th>\n",
       "      <td>D:\\IEEEModel\\Test\\Eco\\202201260012527-dry-asph...</td>\n",
       "      <td>Eco</td>\n",
       "    </tr>\n",
       "    <tr>\n",
       "      <th>1</th>\n",
       "      <td>D:\\IEEEModel\\Test\\Eco\\202201260012528-dry-asph...</td>\n",
       "      <td>Eco</td>\n",
       "    </tr>\n",
       "    <tr>\n",
       "      <th>2</th>\n",
       "      <td>D:\\IEEEModel\\Test\\Eco\\202201260012529-dry-asph...</td>\n",
       "      <td>Eco</td>\n",
       "    </tr>\n",
       "    <tr>\n",
       "      <th>3</th>\n",
       "      <td>D:\\IEEEModel\\Test\\Eco\\202201261342122-dry-asph...</td>\n",
       "      <td>Eco</td>\n",
       "    </tr>\n",
       "    <tr>\n",
       "      <th>4</th>\n",
       "      <td>D:\\IEEEModel\\Test\\Eco\\202201261454135-dry-asph...</td>\n",
       "      <td>Eco</td>\n",
       "    </tr>\n",
       "  </tbody>\n",
       "</table>\n",
       "</div>"
      ],
      "text/plain": [
       "                                               image label\n",
       "0  D:\\IEEEModel\\Test\\Eco\\202201260012527-dry-asph...   Eco\n",
       "1  D:\\IEEEModel\\Test\\Eco\\202201260012528-dry-asph...   Eco\n",
       "2  D:\\IEEEModel\\Test\\Eco\\202201260012529-dry-asph...   Eco\n",
       "3  D:\\IEEEModel\\Test\\Eco\\202201261342122-dry-asph...   Eco\n",
       "4  D:\\IEEEModel\\Test\\Eco\\202201261454135-dry-asph...   Eco"
      ]
     },
     "execution_count": 8,
     "metadata": {},
     "output_type": "execute_result"
    }
   ],
   "source": [
    "## convert into dataframe\n",
    "test = pd.DataFrame()\n",
    "test['image'], test['label'] = load_dataset(test_dir)\n",
    "test.head()"
   ]
  },
  {
   "cell_type": "code",
   "execution_count": 9,
   "id": "b3714243",
   "metadata": {},
   "outputs": [
    {
     "data": {
      "text/plain": [
       "Index(['image', 'label'], dtype='object')"
      ]
     },
     "execution_count": 9,
     "metadata": {},
     "output_type": "execute_result"
    }
   ],
   "source": [
    "train.columns"
   ]
  },
  {
   "cell_type": "code",
   "execution_count": 10,
   "id": "360629bb",
   "metadata": {},
   "outputs": [
    {
     "data": {
      "text/html": [
       "<div>\n",
       "<style scoped>\n",
       "    .dataframe tbody tr th:only-of-type {\n",
       "        vertical-align: middle;\n",
       "    }\n",
       "\n",
       "    .dataframe tbody tr th {\n",
       "        vertical-align: top;\n",
       "    }\n",
       "\n",
       "    .dataframe thead th {\n",
       "        text-align: right;\n",
       "    }\n",
       "</style>\n",
       "<table border=\"1\" class=\"dataframe\">\n",
       "  <thead>\n",
       "    <tr style=\"text-align: right;\">\n",
       "      <th></th>\n",
       "      <th>image</th>\n",
       "      <th>label</th>\n",
       "    </tr>\n",
       "  </thead>\n",
       "  <tbody>\n",
       "    <tr>\n",
       "      <th>0</th>\n",
       "      <td>D:\\IEEEModel\\Train\\Eco\\2022012615084019-dry-as...</td>\n",
       "      <td>Eco</td>\n",
       "    </tr>\n",
       "    <tr>\n",
       "      <th>1</th>\n",
       "      <td>D:\\IEEEModel\\Train\\Eco\\2022012615204711-dry-as...</td>\n",
       "      <td>Eco</td>\n",
       "    </tr>\n",
       "    <tr>\n",
       "      <th>2</th>\n",
       "      <td>D:\\IEEEModel\\Train\\Eco\\2022012619360610-water-...</td>\n",
       "      <td>Eco</td>\n",
       "    </tr>\n",
       "    <tr>\n",
       "      <th>3</th>\n",
       "      <td>D:\\IEEEModel\\Train\\Eco\\2022012621281716-dry-co...</td>\n",
       "      <td>Eco</td>\n",
       "    </tr>\n",
       "    <tr>\n",
       "      <th>4</th>\n",
       "      <td>D:\\IEEEModel\\Train\\Eco\\2022012621281717-dry-co...</td>\n",
       "      <td>Eco</td>\n",
       "    </tr>\n",
       "    <tr>\n",
       "      <th>...</th>\n",
       "      <td>...</td>\n",
       "      <td>...</td>\n",
       "    </tr>\n",
       "    <tr>\n",
       "      <th>80218</th>\n",
       "      <td>D:\\IEEEModel\\Train\\Sports\\347.jpg</td>\n",
       "      <td>Sports</td>\n",
       "    </tr>\n",
       "    <tr>\n",
       "      <th>80219</th>\n",
       "      <td>D:\\IEEEModel\\Train\\Sports\\348.jpg</td>\n",
       "      <td>Sports</td>\n",
       "    </tr>\n",
       "    <tr>\n",
       "      <th>80220</th>\n",
       "      <td>D:\\IEEEModel\\Train\\Sports\\350.jpg</td>\n",
       "      <td>Sports</td>\n",
       "    </tr>\n",
       "    <tr>\n",
       "      <th>80221</th>\n",
       "      <td>D:\\IEEEModel\\Train\\Sports\\351.jpg</td>\n",
       "      <td>Sports</td>\n",
       "    </tr>\n",
       "    <tr>\n",
       "      <th>80222</th>\n",
       "      <td>D:\\IEEEModel\\Train\\Sports\\352.jpg</td>\n",
       "      <td>Sports</td>\n",
       "    </tr>\n",
       "  </tbody>\n",
       "</table>\n",
       "<p>80223 rows × 2 columns</p>\n",
       "</div>"
      ],
      "text/plain": [
       "                                                   image   label\n",
       "0      D:\\IEEEModel\\Train\\Eco\\2022012615084019-dry-as...     Eco\n",
       "1      D:\\IEEEModel\\Train\\Eco\\2022012615204711-dry-as...     Eco\n",
       "2      D:\\IEEEModel\\Train\\Eco\\2022012619360610-water-...     Eco\n",
       "3      D:\\IEEEModel\\Train\\Eco\\2022012621281716-dry-co...     Eco\n",
       "4      D:\\IEEEModel\\Train\\Eco\\2022012621281717-dry-co...     Eco\n",
       "...                                                  ...     ...\n",
       "80218                  D:\\IEEEModel\\Train\\Sports\\347.jpg  Sports\n",
       "80219                  D:\\IEEEModel\\Train\\Sports\\348.jpg  Sports\n",
       "80220                  D:\\IEEEModel\\Train\\Sports\\350.jpg  Sports\n",
       "80221                  D:\\IEEEModel\\Train\\Sports\\351.jpg  Sports\n",
       "80222                  D:\\IEEEModel\\Train\\Sports\\352.jpg  Sports\n",
       "\n",
       "[80223 rows x 2 columns]"
      ]
     },
     "execution_count": 10,
     "metadata": {},
     "output_type": "execute_result"
    }
   ],
   "source": [
    "train"
   ]
  },
  {
   "cell_type": "code",
   "execution_count": 11,
   "id": "0b57ca3b",
   "metadata": {},
   "outputs": [
    {
     "data": {
      "image/png": "[encoded data removed]",
      "text/plain": [
       "<Figure size 2000x600 with 1 Axes>"
      ]
     },
     "metadata": {},
     "output_type": "display_data"
    }
   ],
   "source": [
    "from sklearn.preprocessing import MultiLabelBinarizer\n",
    "\n",
    "mlb = MultiLabelBinarizer().fit(train.label.apply(lambda x: x.split()))\n",
    "labels = pd.DataFrame(mlb.transform(train.label.apply(lambda x: x.split())), columns=mlb.classes_)\n",
    "\n",
    "fig, ax = plt.subplots(figsize=(20, 6))\n",
    "labels.sum().plot.bar(title='Target Class Distribution');"
   ]
  },
  {
   "cell_type": "code",
   "execution_count": 12,
   "id": "6e4fa713",
   "metadata": {},
   "outputs": [
    {
     "data": {
      "image/png": "[encoded data removed]",
      "text/plain": [
       "<Figure size 2000x600 with 1 Axes>"
      ]
     },
     "metadata": {},
     "output_type": "display_data"
    }
   ],
   "source": [
    "fig, ax = plt.subplots(figsize=(20, 6))\n",
    "labels.sum(axis=1).value_counts().plot.bar(title='Distribution of Number of Labels per Image');"
   ]
  },
  {
   "cell_type": "code",
   "execution_count": 13,
   "id": "57168c03",
   "metadata": {},
   "outputs": [
    {
     "data": {
      "text/html": [
       "<div>\n",
       "<style scoped>\n",
       "    .dataframe tbody tr th:only-of-type {\n",
       "        vertical-align: middle;\n",
       "    }\n",
       "\n",
       "    .dataframe tbody tr th {\n",
       "        vertical-align: top;\n",
       "    }\n",
       "\n",
       "    .dataframe thead th {\n",
       "        text-align: right;\n",
       "    }\n",
       "</style>\n",
       "<table border=\"1\" class=\"dataframe\">\n",
       "  <thead>\n",
       "    <tr style=\"text-align: right;\">\n",
       "      <th></th>\n",
       "      <th>image</th>\n",
       "      <th>Eco</th>\n",
       "      <th>OffRoad</th>\n",
       "      <th>Snow</th>\n",
       "      <th>Sports</th>\n",
       "    </tr>\n",
       "  </thead>\n",
       "  <tbody>\n",
       "    <tr>\n",
       "      <th>0</th>\n",
       "      <td>D:\\IEEEModel\\Train\\Eco\\2022012615084019-dry-as...</td>\n",
       "      <td>1</td>\n",
       "      <td>0</td>\n",
       "      <td>0</td>\n",
       "      <td>0</td>\n",
       "    </tr>\n",
       "    <tr>\n",
       "      <th>1</th>\n",
       "      <td>D:\\IEEEModel\\Train\\Eco\\2022012615204711-dry-as...</td>\n",
       "      <td>1</td>\n",
       "      <td>0</td>\n",
       "      <td>0</td>\n",
       "      <td>0</td>\n",
       "    </tr>\n",
       "    <tr>\n",
       "      <th>2</th>\n",
       "      <td>D:\\IEEEModel\\Train\\Eco\\2022012619360610-water-...</td>\n",
       "      <td>1</td>\n",
       "      <td>0</td>\n",
       "      <td>0</td>\n",
       "      <td>0</td>\n",
       "    </tr>\n",
       "    <tr>\n",
       "      <th>3</th>\n",
       "      <td>D:\\IEEEModel\\Train\\Eco\\2022012621281716-dry-co...</td>\n",
       "      <td>1</td>\n",
       "      <td>0</td>\n",
       "      <td>0</td>\n",
       "      <td>0</td>\n",
       "    </tr>\n",
       "    <tr>\n",
       "      <th>4</th>\n",
       "      <td>D:\\IEEEModel\\Train\\Eco\\2022012621281717-dry-co...</td>\n",
       "      <td>1</td>\n",
       "      <td>0</td>\n",
       "      <td>0</td>\n",
       "      <td>0</td>\n",
       "    </tr>\n",
       "  </tbody>\n",
       "</table>\n",
       "</div>"
      ],
      "text/plain": [
       "                                               image  Eco  OffRoad  Snow  \\\n",
       "0  D:\\IEEEModel\\Train\\Eco\\2022012615084019-dry-as...    1        0     0   \n",
       "1  D:\\IEEEModel\\Train\\Eco\\2022012615204711-dry-as...    1        0     0   \n",
       "2  D:\\IEEEModel\\Train\\Eco\\2022012619360610-water-...    1        0     0   \n",
       "3  D:\\IEEEModel\\Train\\Eco\\2022012621281716-dry-co...    1        0     0   \n",
       "4  D:\\IEEEModel\\Train\\Eco\\2022012621281717-dry-co...    1        0     0   \n",
       "\n",
       "   Sports  \n",
       "0       0  \n",
       "1       0  \n",
       "2       0  \n",
       "3       0  \n",
       "4       0  "
      ]
     },
     "execution_count": 13,
     "metadata": {},
     "output_type": "execute_result"
    }
   ],
   "source": [
    "labels = pd.concat([train['image'], labels], axis=1) #.drop('healthy', axis=1)\n",
    "labels.head()"
   ]
  },
  {
   "cell_type": "code",
   "execution_count": 14,
   "id": "2efb9b53",
   "metadata": {},
   "outputs": [],
   "source": [
    "train_loader=DataLoader(\n",
    "    torchvision.datasets.ImageFolder(train_dir,transform=transformer),\n",
    "    batch_size=64, shuffle=True\n",
    ")\n",
    "test_loader=DataLoader(\n",
    "    torchvision.datasets.ImageFolder(test_dir,transform=transformer),\n",
    "    batch_size=32, shuffle=True\n",
    ")"
   ]
  },
  {
   "cell_type": "code",
   "execution_count": 15,
   "id": "ecfedf6d",
   "metadata": {},
   "outputs": [],
   "source": [
    "#categories\n",
    "root=pathlib.Path(train_dir)\n",
    "classes=sorted([j.name.split('/')[-1] for j in root.iterdir()])"
   ]
  },
  {
   "cell_type": "code",
   "execution_count": 16,
   "id": "f5032c8d",
   "metadata": {},
   "outputs": [
    {
     "name": "stdout",
     "output_type": "stream",
     "text": [
      "['Eco', 'OffRoad', 'Snow', 'Sports']\n"
     ]
    }
   ],
   "source": [
    "print(classes)"
   ]
  },
  {
   "cell_type": "code",
   "execution_count": 17,
   "id": "ad188557",
   "metadata": {},
   "outputs": [],
   "source": [
    "#CNN Network\n",
    "\n",
    "\n",
    "class ConvNet(nn.Module):\n",
    "    def __init__(self,num_classes=4):\n",
    "        super(ConvNet,self).__init__()\n",
    "        \n",
    "        #Output size after convolution filter\n",
    "        #((w-f+2P)/s) +1\n",
    "        \n",
    "        #Input shape= (256,3,150,150)\n",
    "        \n",
    "        self.conv1=nn.Conv2d(in_channels=3,out_channels=12,kernel_size=3,stride=1,padding=1)\n",
    "        #Shape= (256,12,150,150)\n",
    "        self.bn1=nn.BatchNorm2d(num_features=12)\n",
    "        #Shape= (256,12,150,150)\n",
    "        self.relu1=nn.ReLU()\n",
    "        #Shape= (256,12,150,150)\n",
    "        \n",
    "        self.pool=nn.MaxPool2d(kernel_size=2)\n",
    "        #Reduce the image size be factor 2\n",
    "        #Shape= (256,12,75,75)\n",
    "        \n",
    "        \n",
    "        self.conv2=nn.Conv2d(in_channels=12,out_channels=20,kernel_size=3,stride=1,padding=1)\n",
    "        #Shape= (256,20,75,75)\n",
    "        self.relu2=nn.ReLU()\n",
    "        #Shape= (256,20,75,75)\n",
    "        \n",
    "        \n",
    "        \n",
    "        self.conv3=nn.Conv2d(in_channels=20,out_channels=32,kernel_size=3,stride=1,padding=1)\n",
    "        #Shape= (256,32,75,75)\n",
    "        self.bn3=nn.BatchNorm2d(num_features=32)\n",
    "        #Shape= (256,32,75,75)\n",
    "        self.relu3=nn.ReLU()\n",
    "        #Shape= (256,32,75,75)\n",
    "        \n",
    "        \n",
    "        self.fc=nn.Linear(in_features=75 * 75 * 32,out_features=num_classes)\n",
    "        \n",
    "        \n",
    "        \n",
    "        #Feed forwad function\n",
    "        \n",
    "    def forward(self,input):\n",
    "        output=self.conv1(input)\n",
    "        output=self.bn1(output)\n",
    "        output=self.relu1(output)\n",
    "            \n",
    "        output=self.pool(output)\n",
    "            \n",
    "        output=self.conv2(output)\n",
    "        output=self.relu2(output)\n",
    "            \n",
    "        output=self.conv3(output)\n",
    "        output=self.bn3(output)\n",
    "        output=self.relu3(output)\n",
    "            \n",
    "            \n",
    "            #Above output will be in matrix form, with shape (256,32,75,75)\n",
    "            \n",
    "        output=output.view(-1,32*75*75)\n",
    "            \n",
    "            \n",
    "        output=self.fc(output)\n",
    "            \n",
    "        return output\n",
    "            \n",
    "        \n"
   ]
  },
  {
   "cell_type": "code",
   "execution_count": 18,
   "id": "bb7b81be",
   "metadata": {},
   "outputs": [
    {
     "data": {
      "text/plain": [
       "True"
      ]
     },
     "execution_count": 18,
     "metadata": {},
     "output_type": "execute_result"
    }
   ],
   "source": [
    "torch.cuda.is_available()"
   ]
  },
  {
   "cell_type": "code",
   "execution_count": 19,
   "id": "7c524826",
   "metadata": {},
   "outputs": [],
   "source": [
    "#checking for device\n",
    "device=torch.device('cuda' if torch.cuda.is_available() else 'cpu')"
   ]
  },
  {
   "cell_type": "code",
   "execution_count": 20,
   "id": "8a7375d9",
   "metadata": {},
   "outputs": [
    {
     "name": "stdout",
     "output_type": "stream",
     "text": [
      "cuda\n"
     ]
    }
   ],
   "source": [
    "print(device)"
   ]
  },
  {
   "cell_type": "code",
   "execution_count": 21,
   "id": "45298c7e",
   "metadata": {},
   "outputs": [],
   "source": [
    "model=ConvNet(num_classes=4).to(device)"
   ]
  },
  {
   "cell_type": "code",
   "execution_count": 22,
   "id": "ef3c108a",
   "metadata": {},
   "outputs": [],
   "source": [
    "#Optmizer and loss function\n",
    "optimizer=Adam(model.parameters(),lr=0.001,weight_decay=0.0001)\n",
    "loss_function=nn.CrossEntropyLoss()"
   ]
  },
  {
   "cell_type": "code",
   "execution_count": 23,
   "id": "595a0a0f",
   "metadata": {},
   "outputs": [],
   "source": [
    "#calculating the size of training and testing images\n",
    "train_count=len(glob.glob(train_dir+'/**/*.jpg'))\n",
    "test_count=len(glob.glob(test_dir+'/**/*.jpg'))"
   ]
  },
  {
   "cell_type": "code",
   "execution_count": 24,
   "id": "7c29a924",
   "metadata": {},
   "outputs": [
    {
     "name": "stdout",
     "output_type": "stream",
     "text": [
      "80223 17205\n"
     ]
    }
   ],
   "source": [
    "print(train_count,test_count)"
   ]
  },
  {
   "cell_type": "code",
   "execution_count": 25,
   "id": "9a1a2cef",
   "metadata": {},
   "outputs": [],
   "source": [
    "num_epochs=10"
   ]
  },
  {
   "cell_type": "code",
   "execution_count": 26,
   "id": "cae61912",
   "metadata": {},
   "outputs": [
    {
     "name": "stdout",
     "output_type": "stream",
     "text": [
      "Epoch: 0 Train Loss: tensor(3.1426) Train Accuracy: 0.6360270745297484 Test Accuracy: 0.5402499273467015 Test Loss: tensor(0.0002)\n",
      "Epoch: 1 Train Loss: tensor(0.5745) Train Accuracy: 0.7821073756902633 Test Accuracy: 0.5251380412670735 Test Loss: tensor(3.3390e-05)\n",
      "Epoch: 2 Train Loss: tensor(0.4551) Train Accuracy: 0.8244393752415142 Test Accuracy: 0.46399302528334785 Test Loss: tensor(2.6454e-05)\n",
      "Epoch: 3 Train Loss: tensor(0.4088) Train Accuracy: 0.8457549580544232 Test Accuracy: 0.6753850624818367 Test Loss: tensor(2.3762e-05)\n",
      "Epoch: 4 Train Loss: tensor(0.3636) Train Accuracy: 0.8630567293668898 Test Accuracy: 0.6752688172043011 Test Loss: tensor(2.1136e-05)\n",
      "Epoch: 5 Train Loss: tensor(0.3289) Train Accuracy: 0.8758585443077421 Test Accuracy: 0.5635571054925894 Test Loss: tensor(1.9118e-05)\n",
      "Epoch: 6 Train Loss: tensor(0.3002) Train Accuracy: 0.888149283871209 Test Accuracy: 0.6408020924149956 Test Loss: tensor(1.7448e-05)\n",
      "Epoch: 7 Train Loss: tensor(0.2789) Train Accuracy: 0.8992558243895142 Test Accuracy: 0.5433304272013949 Test Loss: tensor(1.6211e-05)\n",
      "Epoch: 8 Train Loss: tensor(0.2475) Train Accuracy: 0.9089163955474115 Test Accuracy: 0.5486777099680326 Test Loss: tensor(1.4387e-05)\n",
      "Epoch: 9 Train Loss: tensor(0.2232) Train Accuracy: 0.9201101928374655 Test Accuracy: 0.6283638477186865 Test Loss: tensor(1.2973e-05)\n"
     ]
    }
   ],
   "source": [
    "#Model training and saving best model\n",
    "\n",
    "best_accuracy=0.0\n",
    "\n",
    "for epoch in range(num_epochs):\n",
    "    \n",
    "    #Evaluation and training on training dataset\n",
    "    model.train()\n",
    "    train_accuracy=0.0\n",
    "    train_loss=0.0\n",
    "    test_loss=0.0\n",
    "    \n",
    "    for i, (images,labels) in enumerate(train_loader):\n",
    "        if torch.cuda.is_available():\n",
    "            images=Variable(images.cuda())\n",
    "            labels=Variable(labels.cuda())\n",
    "            \n",
    "        optimizer.zero_grad()\n",
    "        \n",
    "        outputs=model(images)\n",
    "        loss=loss_function(outputs,labels)\n",
    "        loss.backward()\n",
    "        optimizer.step()\n",
    "        \n",
    "        \n",
    "        train_loss+= loss.cpu().data*images.size(0)\n",
    "        _,prediction=torch.max(outputs.data,1)\n",
    "        \n",
    "        train_accuracy+=int(torch.sum(prediction==labels.data))\n",
    "        \n",
    "    train_accuracy=train_accuracy/train_count\n",
    "    train_loss=train_loss/train_count\n",
    "    \n",
    "    \n",
    "    # Evaluation on testing dataset\n",
    "    model.eval()\n",
    "    \n",
    "    test_accuracy=0.0\n",
    "    for i, (images,labels) in enumerate(test_loader):\n",
    "        if torch.cuda.is_available():\n",
    "            images=Variable(images.cuda())\n",
    "            labels=Variable(labels.cuda())\n",
    "            \n",
    "        outputs=model(images)\n",
    "        test_loss+= loss.cpu().data*images.size(0)\n",
    "        _,prediction=torch.max(outputs.data,1)\n",
    "        test_accuracy+=int(torch.sum(prediction==labels.data))\n",
    "    \n",
    "    test_accuracy=test_accuracy/test_count\n",
    "    test_loss=train_loss/test_count\n",
    "    \n",
    "    \n",
    "    print('Epoch: '+str(epoch)+' Train Loss: '+str(train_loss)+' Train Accuracy: '+str(train_accuracy)+' Test Accuracy: '+str(test_accuracy)+' Test Loss: '+str(test_loss))\n",
    "    \n",
    "    #Save the best model\n",
    "    if test_accuracy>best_accuracy:\n",
    "        torch.save(model.state_dict(),'PyTorchMode_NewCompressed2.model')\n",
    "        best_accuracy=test_accuracy\n",
    "    \n",
    "       \n"
   ]
  },
  {
   "cell_type": "code",
   "execution_count": null,
   "id": "4bbde1cb",
   "metadata": {},
   "outputs": [],
   "source": []
  }
 ],
 "metadata": {
  "kernelspec": {
   "display_name": "Python 3 (ipykernel)",
   "language": "python",
   "name": "python3"
  },
  "language_info": {
   "codemirror_mode": {
    "name": "ipython",
    "version": 3
   },
   "file_extension": ".py",
   "mimetype": "text/x-python",
   "name": "python",
   "nbconvert_exporter": "python",
   "pygments_lexer": "ipython3",
   "version": "3.11.4"
  }
 },
 "nbformat": 4,
 "nbformat_minor": 5
}
